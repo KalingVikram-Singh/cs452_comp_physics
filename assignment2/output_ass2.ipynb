{
 "cells": [
  {
   "cell_type": "code",
   "execution_count": 1,
   "id": "317fa18e",
   "metadata": {
    "scrolled": true
   },
   "outputs": [],
   "source": [
    "from inputfiles_ass2 import*\n",
    "from Library_assign2 import*"
   ]
  },
  {
   "cell_type": "code",
   "execution_count": 2,
   "id": "4c12349f",
   "metadata": {},
   "outputs": [
    {
     "name": "stdout",
     "output_type": "stream",
     "text": [
      "\n",
      "After Cholesky decomposition we have A:\n",
      "[2.0, 0, 0, 0, 0, 0]\n",
      "[-0.5, 1.9364916731037085, 0, 0, 0, 0]\n",
      "[0.0, -0.5163977794943222, 1.9321835661585918, 0, 0, 0]\n",
      "[-0.5, -0.12909944487358055, -0.034503277967117704, 1.9318754766140744, 0, 0]\n",
      "[0.0, -0.5163977794943222, -0.13801311186847082, -0.5546053999849018, 1.8457244010396843, 0]\n",
      "[0.0, 0.0, -0.5175491695067657, -0.009243423333081693, -0.5832696492049564, 1.841698654119145]\n",
      "\n",
      "Y, after forward substitution is : [1.0, 0.7745966692414834, 1.2421180068162376, 1.368026653296091, 1.262454751834728, 1.841698654119145]\n",
      "\n",
      "The solution by Cholesky is given by X : [1.0, 0.9999999999999999, 1.0, 0.9999999999999999, 1.0, 1.0]\n",
      "The solution by Cholesky is given by X (truncated upto 6th decimal place):\n",
      "1.000000\n",
      "0.999999\n",
      "1.000000\n",
      "0.999999\n",
      "1.000000\n",
      "1.000000\n"
     ]
    }
   ],
   "source": [
    "# SOL 1(a)\n",
    "L=cholesky(ZC)                                           #Calls Cholesky\n",
    "print_matrix(ZC)                                         #Prints the decomposed lower matrix L\n",
    "\n",
    "print()\n",
    "Y2=forwardsub_chol(L,B)                                      #Calls Forward substitution\n",
    "\n",
    "print(\"Y, after forward substitution is :\",Y2)\n",
    "U=transpose(ZC)                                          #Take upper matrix for backward substitution\n",
    "X2=backwardsub_chol(U,Y2)\n",
    "print()\n",
    "\n",
    "print(f\"The solution by Cholesky is given by X :\",X2)      #Solution through Cholesky\n",
    "print(f\"The solution by Cholesky is given by X (truncated upto 6th decimal place):\")      #Solution through Cholesky\n",
    "for i in X2:\n",
    "    truncated_value = truncate_float(i, 6)\n",
    "    print(truncated_value)  "
   ]
  },
  {
   "cell_type": "code",
   "execution_count": 3,
   "id": "59b9b475",
   "metadata": {},
   "outputs": [
    {
     "name": "stdout",
     "output_type": "stream",
     "text": [
      "The solution of the equations is given by:[0.9999990220141322, 0.9999991652368465, 0.9999996437425399, 0.9999994097333135, 0.9999994961758684, 0.9999997849796021]\n",
      "The solution of the equations is given by(truncated upto 6th decimal place):\n",
      "0.999999\n",
      "0.999999\n",
      "0.999999\n",
      "0.999999\n",
      "0.999999\n",
      "0.999999\n"
     ]
    }
   ],
   "source": [
    "# SOL 1(b)\n",
    "\n",
    "sol = gauss_seidel(C,D,X0)\n",
    "print(f\"The solution of the equations is given by:{sol}\")\n",
    "print(\"The solution of the equations is given by(truncated upto 6th decimal place):\")\n",
    "for i in sol:\n",
    "    truncate_value =truncate_float(i, 6)\n",
    "    print(truncate_value)\n"
   ]
  },
  {
   "cell_type": "code",
   "execution_count": 4,
   "id": "17432003",
   "metadata": {},
   "outputs": [
    {
     "name": "stdout",
     "output_type": "stream",
     "text": [
      "Lower matrix:\n",
      "[1, 0, 0, 0, 0]\n",
      "[0.0, 1, 0, 0, 0]\n",
      "[0.2727272727272727, 0.29545454545454547, 1, 0, 0]\n",
      "[0.36363636363636365, -0.2727272727272727, 0.7092198581560283, 1, 0]\n",
      "[0.18181818181818182, 1.1136363636363638, -0.1914893617021277, 0.32426127527216175, 1]\n",
      "\n",
      "Upper matrix:\n",
      "[11, 3, 0, 1, 2]\n",
      "[0, 4.0, 2.0, 0.0, 1.0]\n",
      "[0, 0, 6.409090909090909, 0.7272727272727273, -0.8409090909090908]\n",
      "[0, 0, 0, 9.120567375886525, 1.1418439716312054]\n",
      "[0, 0, 0, 0, 10.991446345256609]\n",
      "\n",
      "The solution from LU decomposition is : [2.6746020516448534, 3.711885390873718, -0.05330739299610891, -0.07442518570923257, 5.259073222497347]\n",
      "\n",
      "The solution by LU decomposition is given by X (truncated upto 6th decimal place):\n",
      "2.674602\n",
      "3.711885\n",
      "-0.053307\n",
      "-0.074425\n",
      "5.259073\n"
     ]
    }
   ],
   "source": [
    "# Solution 2(a)\n",
    "\n",
    "L,U=ludecomposition(E) \n",
    "print(\"Lower matrix:\")\n",
    "print_matrix(L) \n",
    "print()\n",
    "print(\"Upper matrix:\")\n",
    "print_matrix(U)\n",
    "\n",
    "Y1=forwardsub_LU(L, F)              # We call for forward and then backward substitution.\n",
    "X1=backwardsub_LU(U, Y1)\n",
    "print()\n",
    "print(\"The solution from LU decomposition is :\",X1)      # Here, we have the solution\n",
    "print()\n",
    "print(f\"The solution by LU decomposition is given by X (truncated upto 6th decimal place):\")      #Solution through Cholesky\n",
    "for i in X1:\n",
    "    truncated_value = truncate_float(i, 6)\n",
    "    print(truncated_value)  "
   ]
  },
  {
   "cell_type": "code",
   "execution_count": 5,
   "id": "32f9e50f",
   "metadata": {},
   "outputs": [
    {
     "name": "stdout",
     "output_type": "stream",
     "text": [
      "The solution through gauss jordan is (truncated to 6th decimal place): \n",
      "2.674602\n",
      "3.711885\n",
      "-0.053307\n",
      "-0.074425\n",
      "5.259073\n"
     ]
    }
   ],
   "source": [
    "# Solution 2(b)\n",
    "\n",
    "sol_g =gauss_jordan(A_inp,B_inp)\n",
    "print(\"The solution through gauss jordan is (truncated to 6th decimal place): \")\n",
    "for i in sol_g:\n",
    "    trunc_value = truncate_float(i,6)\n",
    "    print(trunc_value)\n"
   ]
  },
  {
   "cell_type": "code",
   "execution_count": 6,
   "id": "7d4954ef",
   "metadata": {},
   "outputs": [
    {
     "name": "stdout",
     "output_type": "stream",
     "text": [
      "Solution:  [-0.33329684544002247, 0.33333585721750025, 1.0000005356749089, -0.666643480040453, 1.3812990432915667e-05, 0.6666703421170744]\n",
      "\n",
      "The solution(truncated to 4th decimal):\n",
      "-0.3332\n",
      "0.3333\n",
      "1.0000\n",
      "-0.6666\n",
      "0.0000\n",
      "0.6666\n",
      "\n",
      "The inverse of A is:\n",
      "[0.9351081297457838, 0.8701335469931091, 0.25978348543046587, 0.20783039066842407, 0.4155387336960497, 0.16888568059279904]\n",
      "[0.29006764316388056, 0.5800998338982102, 0.17318253650224114, 0.13853914799332992, 0.27705033194246387, 0.11259620943486459]\n",
      "[0.08657043275802281, 0.1731729957295847, 0.32036385452126465, 0.05628067203270778, 0.11256067200908959, 0.1082538324216271]\n",
      "[0.20783039066842443, 0.4155387336960491, 0.16888568059279804, 0.9351081297457843, 0.8701335469931086, 0.25978348543047813]\n",
      "[0.1385391479933303, 0.2770503319424648, 0.11259620943487443, 0.2900676431638813, 0.5800998338982102, 0.1731825365022462]\n",
      "[0.05628067203270797, 0.11256067200908967, 0.10825383242163272, 0.08657043275802304, 0.1731729957295846, 0.3203638545212714]\n",
      "\n",
      "To check if its the inverse, multiply A with A_inv to get an identity function.\n",
      "\n",
      "The matrix porduct gives:\n",
      "[1.000013329999926, -3.2407708412396374e-05, 1.9361354208324855e-05, 4.333735685835283e-05, -7.352843529218056e-05, -1.7267118995689668e-05]\n",
      "[5.2862158385291735e-05, 1.0000424609276821, -1.3403377640400227e-05, -2.2113891693431587e-05, 2.088166506042377e-06, 6.278822278599216e-05]\n",
      "[-6.658416449727839e-05, 3.1477011038921754e-05, 1.0000190491611847, 1.3107379478155545e-05, 1.936036430988386e-05, 5.5265730372400235e-05]\n",
      "[4.333735685796425e-05, -7.352843529617736e-05, -1.726711902722e-05, 1.0000133299999248, -3.240770841328455e-05, 1.9361354217650728e-05]\n",
      "[-2.2113891691759313e-05, 2.08816651028898e-06, 6.278822282579366e-05, 5.2862158387928515e-05, 1.0000424609276837, -1.3403377629395141e-05]\n",
      "[1.3107379478766168e-05, 1.9360364309162215e-05, 5.526573039182914e-05, -6.658416449689675e-05, 3.1477011038671954e-05, 1.0000190491612124]\n",
      "\n",
      "Thus, we get the inverse with a upto 4th decimal place correction. The matrix A *A_inv gives us identity with 10^(-4) errors\n"
     ]
    }
   ],
   "source": [
    "# Quesiton 3\n",
    "\n",
    "x = conjugate_gradient(I,J, x0,tol_cg,iter_cg)\n",
    "print(\"Solution: \", x)\n",
    "print()\n",
    "print(\"The solution(truncated to 4th decimal):\")\n",
    "\n",
    "for i in x:\n",
    "    trunc_value = truncate_float(i,4)\n",
    "    print(trunc_value)\n",
    "\n",
    "print()\n",
    "x0 = [0,0,0,0,0,1]   \n",
    "X_CG_I =  [0,1,0,0,0,0]\n",
    "\n",
    "A_inv = inverse_via_conjugate_gradient(I)\n",
    "print(f\"The inverse of A is:\")\n",
    "for i in A_inv:\n",
    "    print(i)\n",
    "\n",
    "print()\n",
    "print(\"To check if its the inverse, multiply A with A_inv to get an identity function.\")\n",
    "print()\n",
    "print(f\"The matrix porduct gives:\")\n",
    "Prod =matrix_multiply(I,A_inv)\n",
    "for i in Prod:\n",
    "    print(i)\n",
    "print()\n",
    "print(\"Thus, we get the inverse with a upto 4th decimal place correction. The matrix A *A_inv gives us identity with 10^(-4) errors\" )"
   ]
  },
  {
   "cell_type": "code",
   "execution_count": 7,
   "id": "b0048466",
   "metadata": {
    "scrolled": false
   },
   "outputs": [
    {
     "name": "stdout",
     "output_type": "stream",
     "text": [
      "The inverse of A is:\n",
      "\n",
      "[-1.6593532574320065, -1.1859582542694507, -0.6176865907653379]\n",
      "\n",
      "[-1.1859582542694507, -2.277039848197344, -1.1859582542694493]\n",
      "\n",
      "[-0.6176865907653402, -1.1859582542694507, -1.6593532574320045]\n",
      "\n"
     ]
    },
    {
     "data": {
      "image/png": "[encoded data removed]",
      "text/plain": [
       "<Figure size 640x480 with 1 Axes>"
      ]
     },
     "metadata": {},
     "output_type": "display_data"
    }
   ],
   "source": [
    "A_inv,residue,iterations = inverse_via_conjugate_gradient_2(N,m)\n",
    "print(f\"The inverse of A is:\")\n",
    "print()\n",
    "for i in A_inv:\n",
    "    print(i)\n",
    "    print()\n",
    "\n",
    "#  Plot the solution\n",
    "plt.title(\"Residue vs Iterations\")\n",
    "plt.xlabel(\"Iterations\")\n",
    "plt.ylabel(\"Residue\")\n",
    "plt.plot(iterations, residue, color=\"red\", marker=\"o\", label=\"residue points\")\n",
    "plt.legend()\n",
    "plt.show()"
   ]
  },
  {
   "cell_type": "code",
   "execution_count": null,
   "id": "893319b6",
   "metadata": {},
   "outputs": [],
   "source": []
  },
  {
   "cell_type": "code",
   "execution_count": null,
   "id": "44b2cb7c",
   "metadata": {},
   "outputs": [],
   "source": []
  }
 ],
 "metadata": {
  "kernelspec": {
   "display_name": "Python 3 (ipykernel)",
   "language": "python",
   "name": "python3"
  },
  "language_info": {
   "codemirror_mode": {
    "name": "ipython",
    "version": 3
   },
   "file_extension": ".py",
   "mimetype": "text/x-python",
   "name": "python",
   "nbconvert_exporter": "python",
   "pygments_lexer": "ipython3",
   "version": "3.9.13"
  }
 },
 "nbformat": 4,
 "nbformat_minor": 5
}
