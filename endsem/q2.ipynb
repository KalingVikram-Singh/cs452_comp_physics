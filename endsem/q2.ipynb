{
 "cells": [
  {
   "cell_type": "markdown",
   "id": "8682d7f7",
   "metadata": {},
   "source": [
    "# Import functions"
   ]
  },
  {
   "cell_type": "code",
   "execution_count": 15,
   "id": "5d6f8260",
   "metadata": {},
   "outputs": [],
   "source": [
    "import math\n",
    "import matplotlib.pyplot as plt\n",
    "import copy\n",
    "import numpy as np\n",
    "from mpl_toolkits.mplot3d import Axes3D"
   ]
  },
  {
   "cell_type": "markdown",
   "id": "1635a3a4",
   "metadata": {},
   "source": [
    "# Library"
   ]
  },
  {
   "cell_type": "markdown",
   "id": "5705ceb3",
   "metadata": {},
   "source": [
    " Matrix basic operations - Corrected and checked"
   ]
  },
  {
   "cell_type": "code",
   "execution_count": 16,
   "id": "0d7be8bf",
   "metadata": {},
   "outputs": [],
   "source": [
    "#Program to find product of 2 matrices. \n",
    "def matrixmultiply(A, B):\n",
    "    C = []                                      \n",
    "    for i in range(len(A)):\n",
    "        C.append([])                            #In length of A-matrix, C-matrix dimension is chosen.\n",
    "        for j in range(len(A[0])):\n",
    "            C[i].append(0)                      #Getting 0 in all indexes of C.\n",
    "            for k in range(len(A[0])):\n",
    "                C[i][j] = round(A[i][k] * B[k][j]+C[i][j],1)    #For each term (row) of the C matrix, the product of indivisual terms of A and B are added and appended to i,j index of C.\n",
    "    return C\n",
    "\n",
    "\n",
    "#Check if a matrix is symmetric \n",
    "def issymmetric(A):                                            \n",
    "    i=0\n",
    "    counter=0\n",
    "    while i<len(A):\n",
    "        j=0\n",
    "        while j<len(A):\n",
    "            if A[i][j]==A[j][i]:\n",
    "                counter+=1    \n",
    "            j+=1\n",
    "        i+=1\n",
    "    if counter==len(A)*len(A):\n",
    "        return True\n",
    "    else:\n",
    "        return False\n",
    "    \n",
    "#Return the transpose of a matrix\n",
    "def transpose(A):       \n",
    "    i=0\n",
    "    B=copy.copy(A)\n",
    "    while i<len(B):\n",
    "        j=i+1\n",
    "        while j<len(A):\n",
    "            temp=B[i][j]\n",
    "            B[i][j]=B[j][i]\n",
    "            B[j][i]=temp\n",
    "            j+=1\n",
    "        i+=1\n",
    "    return B"
   ]
  },
  {
   "cell_type": "code",
   "execution_count": 17,
   "id": "f5e59321",
   "metadata": {},
   "outputs": [],
   "source": [
    "# fixed point method to solve nonlinear equations\n",
    "def fixedpoint_function(x):\n",
    "    b = 0.05422\n",
    "    R = 0.0821\n",
    "    T = 300\n",
    "    a = 6.254\n",
    "    P = 5.95\n",
    "    return b+ R*T/(P + a/x**(2))\n",
    "\n",
    "\n",
    "def fixedpoint_method(guess):\n",
    "    x = 1\n",
    "    y = guess\n",
    "    counter = 0\n",
    "    while abs(y - x)>0.0001:\n",
    "        counter = counter + 1\n",
    "        x = y\n",
    "#         print(y)\n",
    "        y = fixedpoint_function(x)\n",
    "    \n",
    "    return y,counter  \n",
    "\n",
    "def truncate_float(f, n):\n",
    "    s = '{}'.format(f)\n",
    "    if 'e' in s or 'E' in s:\n",
    "        return '{0:.{1}f}'.format(f, n)\n",
    "    i, p, d = s.partition('.')\n",
    "    return '.'.join([i, (d + '0' * n)[:n]])"
   ]
  },
  {
   "cell_type": "code",
   "execution_count": 18,
   "id": "46b63e18",
   "metadata": {},
   "outputs": [
    {
     "name": "stdout",
     "output_type": "stream",
     "text": [
      "The solutions is: 3.92995 given in  6 iterations\n"
     ]
    }
   ],
   "source": [
    "guess = 10\n",
    "solu, iters = fixedpoint_method(guess)\n",
    "print(\"The solutions is:\", truncate_float(solu,5), \"given in \",iters,\"iterations\")"
   ]
  }
 ],
 "metadata": {
  "kernelspec": {
   "display_name": "Python 3 (ipykernel)",
   "language": "python",
   "name": "python3"
  },
  "language_info": {
   "codemirror_mode": {
    "name": "ipython",
    "version": 3
   },
   "file_extension": ".py",
   "mimetype": "text/x-python",
   "name": "python",
   "nbconvert_exporter": "python",
   "pygments_lexer": "ipython3",
   "version": "3.9.13"
  }
 },
 "nbformat": 4,
 "nbformat_minor": 5
}
