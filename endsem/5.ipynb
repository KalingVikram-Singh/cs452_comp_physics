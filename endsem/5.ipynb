{
 "cells": [
  {
   "cell_type": "code",
   "execution_count": 26,
   "id": "0a5d4daf",
   "metadata": {},
   "outputs": [],
   "source": [
    "import numpy as np\n",
    "import matplotlib.pyplot as plt\n",
    "import copy\n",
    "import math"
   ]
  },
  {
   "cell_type": "code",
   "execution_count": 29,
   "id": "aa4607bc",
   "metadata": {},
   "outputs": [],
   "source": [
    "#Power Iteration Method- Returns largest eigen value and vector\n",
    "# def determinant(A): calculation is not recommended for determinantion of lambda\n",
    "# We would reuquire to approximate the solutions \n",
    "def matrix_dotproduct(A_matprod,B_matprod):\n",
    "    result_matprod=[0 for i in range(len(A_matprod))]\n",
    "    for i in range(len(A_matprod)):\n",
    "        for j in range(len(A_matprod)):\n",
    "            result_matprod[i]+=A_matprod[i][j]*B_matprod[j]\n",
    "    return result_matprod\n",
    "\n",
    "def dotproduct_vectors(A_dotproduct_vectors,B_dotproduct_vectors):\n",
    "    C_dotproduct_vectors=0\n",
    "    for i in range(len(A_dotproduct_vectors)):\n",
    "        C_dotproduct_vectors+=A_dotproduct_vectors[i]*B_dotproduct_vectors[i]\n",
    "    return C_dotproduct_vectors\n",
    "\n",
    "def power_iteration(A_power_iter,power_guess_vector,tolerance_power,itermax_power = 100):\n",
    "    lambda_old=0\n",
    "    lambda_new=tolerance_power + 0.1                                    # Initializing the vectors to get a tolerance in the final solution.\n",
    "    xii=[] \n",
    "    y_power_iter=copy.deepcopy(power_guess_vector)\n",
    "    xi=copy.deepcopy(matrix_dotproduct(A_power_iter, y_power_iter))     #Assigning the starting value  xi\n",
    "\n",
    "    i=0\n",
    "\n",
    "    while abs(lambda_new-lambda_old) > tolerance_power   and i < itermax_power:\n",
    "        i+=1\n",
    "        lambda_old=lambda_new\n",
    "        xii=copy.copy(matrix_dotproduct(A_power_iter,xi))      #Got xi+1 here\n",
    "        xki=dotproduct_vectors(xi,y_power_iter)                #Got xi.y here\n",
    "        xkii=dotproduct_vectors(xii,y_power_iter)              #Got xi+1.y here\n",
    "        lambda_new= xkii/xki\n",
    "        xi=copy.copy(xii)\n",
    "\n",
    "        # print(xkii)\n",
    "    print(\"i = \",i+1)\n",
    "    return xii,lambda_new\n",
    "\n",
    "def normalize(vector_norm):\n",
    "    summation=0\n",
    "    for i in range(len(vector_norm)):\n",
    "        temp = vector_norm[i]**(2)\n",
    "        summation+= round(temp,8)\n",
    "    for i in range(len(vector_norm)):\n",
    "        temp = (vector_norm[i]/summation**(0.5))\n",
    "        vector_norm[i]= round(temp, 8)            \n",
    "    return vector_norm"
   ]
  },
  {
   "cell_type": "code",
   "execution_count": 30,
   "id": "facef2ff",
   "metadata": {},
   "outputs": [
    {
     "name": "stdout",
     "output_type": "stream",
     "text": [
      "i =  36\n",
      "The highest eigen value (normwise) is :3.73205080     (upto 8th decimal place)\n",
      "The corresponding eigen vector is:  [0.28867513, -0.5, 0.57735027, -0.5, 0.28867513]\n",
      "i =  13\n",
      "The highest eigen value (normwise) is :2.00000000     (upto 8th decimal place)\n",
      "The corresponding eigen vector is:  [0.57735027, -1e-08, -0.57735026, -1e-08, 0.57735027]\n"
     ]
    }
   ],
   "source": [
    "guess_vector=[1,1,1,1,1]\n",
    "A_=[[2,-1,0,0,0],[-1,2,-1,0,0],[0,-1,2,-1,0],[0,0,-1,2,-1],[0,0,0,-1,2]]\n",
    "vector_power,evalue_power = power_iteration(A_,guess_vector,10**(-8))\n",
    "print(f\"The highest eigen value (normwise) is :{evalue_power:.8f}     (upto 8th decimal place)\")\n",
    "print(\"The corresponding eigen vector is: \",normalize(vector_power))\n",
    "\n",
    "\n",
    "B = A_ - evalue_power * np.outer(vector_power, vector_power)\n",
    "vector_power,evalue_power = power_iteration(B,guess_vector,10**(-8))\n",
    "print(f\"The highest eigen value (normwise) is :{evalue_power:.8f}     (upto 8th decimal place)\")\n",
    "print(\"The corresponding eigen vector is: \",normalize(vector_power))\n"
   ]
  },
  {
   "cell_type": "code",
   "execution_count": null,
   "id": "cebf7c5b",
   "metadata": {},
   "outputs": [],
   "source": []
  }
 ],
 "metadata": {
  "kernelspec": {
   "display_name": "Python 3 (ipykernel)",
   "language": "python",
   "name": "python3"
  },
  "language_info": {
   "codemirror_mode": {
    "name": "ipython",
    "version": 3
   },
   "file_extension": ".py",
   "mimetype": "text/x-python",
   "name": "python",
   "nbconvert_exporter": "python",
   "pygments_lexer": "ipython3",
   "version": "3.9.13"
  }
 },
 "nbformat": 4,
 "nbformat_minor": 5
}
