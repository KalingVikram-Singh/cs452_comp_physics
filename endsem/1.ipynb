{
 "cells": [
  {
   "cell_type": "code",
   "execution_count": 7,
   "id": "daefe946",
   "metadata": {},
   "outputs": [],
   "source": [
    "import math\n",
    "import copy\n",
    "import numpy as np\n",
    "import matplotlib.pyplot as plt"
   ]
  },
  {
   "cell_type": "code",
   "execution_count": 32,
   "id": "d3ea8e90",
   "metadata": {},
   "outputs": [],
   "source": [
    "# Code for linear regression\n",
    "\n",
    "def mean(values):\n",
    "    return sum(values) / float(len(values))\n",
    "\n",
    "def variance(values, mean_value):\n",
    "    return sum((x - mean_value)**2 for x in values)\n",
    "\n",
    "def covariance(x_values, x_mean, y_values, y_mean):\n",
    "    covar = 0.0\n",
    "    for i in range(len(x_values)):\n",
    "        covar += (x_values[i] - x_mean) * (y_values[i] - y_mean)\n",
    "    return covar\n",
    "\n",
    "def coefficients(dataset):\n",
    "    x_values = [row[0] for row in dataset]\n",
    "    y_values = [row[1] for row in dataset]\n",
    "    x_mean, y_mean = mean(x_values), mean(y_values)\n",
    "    b1 = covariance(x_values, x_mean, y_values, y_mean) / variance(x_values, x_mean)\n",
    "    b0 = y_mean - b1 * x_mean\n",
    "    return [b0, b1]\n",
    "\n",
    "def linear_regression(dataset):\n",
    "    b0, b1 = coefficients(dataset)\n",
    "    print(f'Slope: {b1}, Intercept: {b0}')\n",
    "    x_values = [row[0] for row in dataset]\n",
    "    y_values = [row[1] for row in dataset]\n",
    "    x_mean, y_mean = mean(x_values), mean(y_values)\n",
    "    print(f'Mean of X: {x_mean}, Mean of Y: {y_mean}')\n",
    "    print(f'Variance of X: {variance(x_values, x_mean)}, Variance of Y: {variance(y_values, y_mean)}')\n",
    "    t_half = (y_values[0]/2 - b0)/b1\n",
    "    print(\"half time is:\",t_half)\n",
    "    \n",
    "    var =[]\n",
    "    for i in range(len(x_values)):\n",
    "        variat = ((b0 + b1 * x_values[i]) - y_mean)**(2)/y_mean\n",
    "        var.append(variat)\n",
    "    \n",
    "    \n",
    "    # Plotting the actual points\n",
    "    plt.scatter(x_values, y_values, color='blue')\n",
    "    # Plotting the regression line\n",
    "    predicted_y_values = [b0 + b1 * x for x in x_values]\n",
    "    plt.plot(x_values, predicted_y_values, color='red')\n",
    "    plt.title(\"Linear regression\")\n",
    "    plt.axvline(x=t_half, color='g', linestyle='dashed', label='Green Line')\n",
    "    plt.legend()\n",
    "    plt.show()\n",
    "    return var\n",
    "\n"
   ]
  },
  {
   "cell_type": "code",
   "execution_count": 33,
   "id": "82cf6946",
   "metadata": {},
   "outputs": [
    {
     "name": "stdout",
     "output_type": "stream",
     "text": [
      "Slope: -0.5822100670703914, Intercept: 104.55740053395846\n",
      "Mean of X: 67.6, Mean of Y: 65.2\n",
      "Variance of X: 18428.4, Variance of Y: 6857.6\n",
      "half time is: 88.5546359467621\n"
     ]
    },
    {
     "data": {
      "image/png": "[encoded data removed]",
      "text/plain": [
       "<Figure size 640x480 with 1 Axes>"
      ]
     },
     "metadata": {},
     "output_type": "display_data"
    }
   ],
   "source": [
    "# Import the data\n",
    "x_plot, y_plot,var_plot = [], [],[]\n",
    "with open('assign2fit.txt', 'r') as f:\n",
    "    for line in f:\n",
    "        row = line.split()\n",
    "        x_plot.append(float(row[0]))  # Convert to float if needed\n",
    "        y_plot.append(float(row[1]))\n",
    "        var_plot.append(float(row[2]))\n",
    "\n",
    "# Test the function\n",
    "# Prepare the dataset\n",
    "dataset = list(zip(x_plot, y_plot))\n",
    "var = linear_regression(dataset)"
   ]
  },
  {
   "cell_type": "markdown",
   "id": "476dde85",
   "metadata": {},
   "source": [
    "# CHi characteristics"
   ]
  },
  {
   "cell_type": "code",
   "execution_count": 36,
   "id": "53739972",
   "metadata": {},
   "outputs": [],
   "source": [
    "def chi_sq(X_data_chi):\n",
    "    print(\"Hypothesis: The distribution is normal.\\n\")\n",
    "# Total number of students\n",
    "    observation_chi = copy.deepcopy(X_data_chi)\n",
    "    Total_sum = sum(observation_chi)\n",
    "    mean_data_chi = sum(X_data_chi) / len(X_data_chi)\n",
    "    print(f\"The mean of the data is: {mean_data_chi}\")\n",
    "    print()\n",
    "\n",
    "# Expected distribution (assuming standard normal)\n",
    "    expected_chi = [10,9,10,9,8,8,7,6,6,5]\n",
    "    print(\"Expected distribution is: \",expected_chi)\n",
    "    print()\n",
    "\n",
    "# Calculate chi-square statistic\n",
    "    chi_square_stat = sum((obs - exp) ** 2 / exp for obs, exp in zip(observation_chi, expected_chi))\n",
    "\n",
    "# Degrees of freedom is 5 - 1 = 4\n",
    "    df = 9\n",
    "    print(\"Degrees of freedom: \",df)\n",
    "    print()\n",
    "\n",
    "    print(f\"Critical value at 5% level of significance for degrees of freedom = {df} is 16.915\\n\")\n",
    "    print(\"Chi-square statistic:\", chi_square_stat)\n",
    "    print()\n",
    "    print(\"The hypothesis is true if the chi - square characteristics is less than critical value\")\n",
    "    print()\n",
    "    print(\"CONCLUSION: The distribution is\", \"not taken from linear regression\" if chi_square_stat > 16.915 else \"normal\", \"at 5% level of significance.\\n\")\n",
    "#     print(\"CONCLUSION: The distribution is\", \"not normal\" if chi_square_stat > 7.779 else \"normal\", \"at 10% level of significance.\")"
   ]
  },
  {
   "cell_type": "code",
   "execution_count": 37,
   "id": "059c67ef",
   "metadata": {},
   "outputs": [
    {
     "name": "stdout",
     "output_type": "stream",
     "text": [
      "Hypothesis: The distribution is normal.\n",
      "\n",
      "The mean of the data is: 9.580748852165096\n",
      "\n",
      "Expected distribution is:  [10, 9, 10, 9, 8, 8, 7, 6, 6, 5]\n",
      "\n",
      "Degrees of freedom:  9\n",
      "\n",
      "Critical value at 5% level of significance for degrees of freedom = 9 is 16.915\n",
      "\n",
      "Chi-square statistic: 124.06218921422439\n",
      "\n",
      "The hypothesis is true if the chi - square characteristics is less than critical value\n",
      "\n",
      "CONCLUSION: The distribution is not taken from linear regression at 5% level of significance.\n",
      "\n"
     ]
    }
   ],
   "source": [
    "# Observed distribution of students\n",
    "\n",
    "chi_sq(var)"
   ]
  }
 ],
 "metadata": {
  "kernelspec": {
   "display_name": "Python 3 (ipykernel)",
   "language": "python",
   "name": "python3"
  },
  "language_info": {
   "codemirror_mode": {
    "name": "ipython",
    "version": 3
   },
   "file_extension": ".py",
   "mimetype": "text/x-python",
   "name": "python",
   "nbconvert_exporter": "python",
   "pygments_lexer": "ipython3",
   "version": "3.9.13"
  }
 },
 "nbformat": 4,
 "nbformat_minor": 5
}
